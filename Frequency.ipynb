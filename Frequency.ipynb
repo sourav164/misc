{
 "cells": [
  {
   "cell_type": "code",
   "execution_count": 1,
   "id": "95271479",
   "metadata": {},
   "outputs": [],
   "source": [
    "import pandas as pd\n",
    "import os"
   ]
  },
  {
   "cell_type": "code",
   "execution_count": 69,
   "id": "2705b1c2",
   "metadata": {},
   "outputs": [],
   "source": [
    "# location of parent folder\n",
    "location = r\"C:\\Users\\sourav\\Desktop\\Organized 2022 Mount Data\\2022_Mount\"\n",
    "#where you want to save the output\n",
    "# MUST NOT BE THE SAME AS THE LOCATION FOLDER\n",
    "output_location = r\"C:\\Users\\sourav\\Desktop\"\n",
    "\n",
    "\n",
    "def ms_count(time_stamp):\n",
    "    time_stamp = [int(i) for i in time_stamp]\n",
    "    hr,minu, sec, ms = time_stamp[3:]\n",
    "    total = sec+minu*60+hr*3600\n",
    "    return total\n",
    "\n",
    "all_csv = [os.path.join(root,f) for root,dirs,files in os.walk(location)\n",
    "           for f in files if f.endswith(\".csv\")]\n",
    "\n",
    "path, frequency = [], []\n",
    "for csv_file in all_csv:\n",
    "    df = pd.read_csv(csv_file)\n",
    "    start = df[\"Timestamp\"][0].split(\"-\")\n",
    "    end = df['Timestamp'].iloc[-1].split(\"-\")\n",
    "    difference = ms_count(end)-ms_count(start)\n",
    "    path.append(os.path.split(csv_file)[1])\n",
    "    frequency.append(int(df.shape[0]/difference))\n",
    "    \n",
    "output = pd.DataFrame({'path': path, 'frequency': frequency})\n",
    "output.to_csv(os.path.join(output_location, \"frequency_output.csv\"))\n"
   ]
  },
  {
   "cell_type": "code",
   "execution_count": null,
   "id": "0dc6fa19",
   "metadata": {},
   "outputs": [],
   "source": []
  }
 ],
 "metadata": {
  "kernelspec": {
   "display_name": "Python 3",
   "language": "python",
   "name": "python3"
  },
  "language_info": {
   "codemirror_mode": {
    "name": "ipython",
    "version": 3
   },
   "file_extension": ".py",
   "mimetype": "text/x-python",
   "name": "python",
   "nbconvert_exporter": "python",
   "pygments_lexer": "ipython3",
   "version": "3.6.13"
  }
 },
 "nbformat": 4,
 "nbformat_minor": 5
}
